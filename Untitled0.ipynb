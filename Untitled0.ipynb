{
  "cells": [
    {
      "cell_type": "code",
      "execution_count": null,
      "metadata": {
        "colab": {
          "base_uri": "https://localhost:8080/"
        },
        "id": "QFCGuvvoae4V",
        "outputId": "a3685582-6fe2-4968-f476-52a1283770b9"
      },
      "outputs": [
        {
          "output_type": "stream",
          "name": "stdout",
          "text": [
            "Requirement already satisfied: pyDOE in /usr/local/lib/python3.10/dist-packages (0.3.8)\n",
            "Requirement already satisfied: numpy in /usr/local/lib/python3.10/dist-packages (from pyDOE) (1.25.2)\n",
            "Requirement already satisfied: scipy in /usr/local/lib/python3.10/dist-packages (from pyDOE) (1.11.4)\n"
          ]
        }
      ],
      "source": [
        "!pip install pyDOE"
      ]
    },
    {
      "cell_type": "code",
      "execution_count": null,
      "metadata": {
        "id": "bd50on6-cPjC"
      },
      "outputs": [],
      "source": [
        "import numpy as np\n",
        "import math\n",
        "from numpy import random\n",
        "from pyDOE import lhs\n",
        "import matplotlib.pyplot as plt\n",
        "import matplotlib.animation as animation\n",
        "import os\n",
        "\n",
        "import imageio.v2 as imageio\n",
        "\n"
      ]
    },
    {
      "cell_type": "code",
      "execution_count": null,
      "metadata": {
        "id": "flUFjFufcUd_"
      },
      "outputs": [],
      "source": [
        "# parameters used\n",
        "#N = 50\n",
        "W = 1\n",
        "#r = 0.1\n",
        "r_leave = 0.01\n",
        "v_scale = 0.06\n",
        "mu =0.3\n",
        "leave_mu = 0.5\n",
        "random_mu =0.01\n",
        "\n",
        "constant = 50000"
      ]
    },
    {
      "cell_type": "code",
      "execution_count": null,
      "metadata": {
        "id": "GcJN3sFhykSK"
      },
      "outputs": [],
      "source": [
        "r_test = np.linspace(0.05,0.1,10)\n",
        "N_test = [50,100,200]\n",
        "const_test = [20000,30000,40000]\n",
        "#r_test = [0.01,0.05,0.1]\n",
        "N_test = [50,65,80,95,110,125,140,155,170,185,200]"
      ]
    },
    {
      "cell_type": "code",
      "execution_count": null,
      "metadata": {
        "id": "06n97vc2cdg_"
      },
      "outputs": [],
      "source": [
        "# initial position and velocity\n",
        "x0 = lhs(2,N)\n",
        "v0 = (lhs(2,N)*2-1)"
      ]
    },
    {
      "cell_type": "code",
      "execution_count": null,
      "metadata": {
        "id": "UZT9ib7bt1G5"
      },
      "outputs": [],
      "source": [
        "def is_near(x,y):\n",
        "  dx1 = min(abs(x[0]-y[0]), 1-abs(x[0]-y[0]))\n",
        "  dx2 = min(abs(x[1]-y[1]), 1-abs(x[1]-y[1]))\n",
        "  return dx1**2+dx2**2<r**2"
      ]
    },
    {
      "cell_type": "code",
      "execution_count": null,
      "metadata": {
        "id": "JFPSNNLpbKIA"
      },
      "outputs": [],
      "source": [
        "def dfs(index,x,visited,group):\n",
        "\n",
        "  for ii in range(N):\n",
        "    if (ii not in visited) and is_near(x[ii],x[index]):\n",
        "      visited.append(ii)\n",
        "      group.append(ii)\n",
        "      dfs(ii,x,visited,group)\n",
        "  return visited\n",
        "\n",
        "def G_counting(x):\n",
        "  # num = 0\n",
        "  visited = []\n",
        "  groups = []\n",
        "  for ii in range(N):\n",
        "    if ii not in visited:\n",
        "      group = []\n",
        "      visited = dfs(ii,x,visited,group)\n",
        "      # num+=1\n",
        "      groups.append(group)\n",
        "\n",
        "  return groups"
      ]
    },
    {
      "cell_type": "code",
      "source": [
        "def G_num(x0,v0,r,N):\n",
        "  x=x0.copy()\n",
        "  v=v0.copy()\n",
        "  for _ in range(100):\n",
        "    # print('v: ',v)\n",
        "    temp_v =[]\n",
        "    for ii in range(N):\n",
        "      v_mean = np.zeros(2)\n",
        "      v_leave = v[ii]*0\n",
        "      count = 0\n",
        "\n",
        "      for jj in range(N):\n",
        "        if is_near(x[ii],x[jj]):\n",
        "          # print('v_mean: ',v_mean)\n",
        "          v_mean+=v[jj]\n",
        "          #print('v_mean: ',v_mean)\n",
        "          count+=1\n",
        "        #if ii != jj and ((x[ii][0]-x[jj][0])**2+(x[ii][1]-x[jj][1])**2)**(1/2)<r_leave:\n",
        "          #v_leave-=v[jj]\n",
        "\n",
        "\n",
        "      # vv=(1-mu)*v_mean/count+mu*v[ii] #+ leave_mu*v_leave# + random_mu*(lhs(2,1)[0]*2-1)\n",
        "      temp_v.append(v_mean/count)\n",
        "      #temp_v.append(vv/((vv[0]**2+vv[1]**2)**(0.5)))\n",
        "    v =np.array(temp_v)\n",
        "    x = x + v*v_scale\n",
        "    for ii in range(N):\n",
        "      if x[ii][0]>=1:\n",
        "        x[ii][0]-= int(x[ii][0])\n",
        "      if x[ii][1]>=1:\n",
        "        x[ii][1]-= int(x[ii][1])\n",
        "      if x[ii][0]<=0:\n",
        "        x[ii][0]-= (int(x[ii][0])-1)\n",
        "      if x[ii][1]<=0:\n",
        "        x[ii][1]-= (int(x[ii][1])-1)\n",
        "  return x"
      ],
      "metadata": {
        "id": "GssZsPlcAcMe"
      },
      "execution_count": null,
      "outputs": []
    },
    {
      "cell_type": "code",
      "source": [
        "group_result2 = []\n",
        "for r in r_test:\n",
        "  for N in N_test:\n",
        "  # initial position and velocity\n",
        "    x0 = lhs(2,N)\n",
        "    v0 = (lhs(2,N)*2-1)\n",
        "  #for r in r_test:\n",
        "    x = G_num(x0,v0,r,N)\n",
        "    group_result2.append(len(G_counting(x)))\n"
      ],
      "metadata": {
        "id": "VxZUSlhs0Q5f"
      },
      "execution_count": null,
      "outputs": []
    },
    {
      "cell_type": "code",
      "source": [
        "group_result3 = []\n",
        "for r in r_test:\n",
        "  for constant in const_test:\n",
        "    N = int(constant*r**2)\n",
        "    # initial position and velocity\n",
        "    x0 = lhs(2,N)\n",
        "    v0 = (lhs(2,N)*2-1)\n",
        "    #for r in r_test:\n",
        "    x = G_num(x0,v0,r,N)\n",
        "    group_result3.append(len(G_counting(x)))"
      ],
      "metadata": {
        "id": "WHbYi5ekNaev"
      },
      "execution_count": null,
      "outputs": []
    },
    {
      "cell_type": "code",
      "source": [
        "group_result3"
      ],
      "metadata": {
        "colab": {
          "base_uri": "https://localhost:8080/"
        },
        "id": "6LuUm1v7Evp6",
        "outputId": "58c646e0-9c52-462b-9cde-603a63982e9b"
      },
      "execution_count": null,
      "outputs": [
        {
          "output_type": "execute_result",
          "data": {
            "text/plain": [
              "[8,\n",
              " 7,\n",
              " 4,\n",
              " 10,\n",
              " 8,\n",
              " 9,\n",
              " 7,\n",
              " 6,\n",
              " 4,\n",
              " 5,\n",
              " 2,\n",
              " 4,\n",
              " 2,\n",
              " 3,\n",
              " 4,\n",
              " 2,\n",
              " 3,\n",
              " 2,\n",
              " 1,\n",
              " 1,\n",
              " 2,\n",
              " 1,\n",
              " 2,\n",
              " 1,\n",
              " 1,\n",
              " 1,\n",
              " 1,\n",
              " 1,\n",
              " 1,\n",
              " 1]"
            ]
          },
          "metadata": {},
          "execution_count": 105
        }
      ]
    },
    {
      "cell_type": "code",
      "source": [
        "fig = plt.figure(figsize=plt.figaspect(0.6))\n",
        "ax = plt.gca()\n",
        "\n",
        "ax.plot(r_test,group_result3[0:10],label='const=20000')\n",
        "ax.plot(r_test,group_result3[10:20],label='const=30000')\n",
        "ax.plot(r_test,group_result3[20:30],label='const=40000')\n",
        "plt.legend()\n",
        "ax.set_xlabel('Radius')\n",
        "ax.set_ylabel('# of Groups')\n"
      ],
      "metadata": {
        "colab": {
          "base_uri": "https://localhost:8080/",
          "height": 466
        },
        "id": "wfxkeOph1zL9",
        "outputId": "bf71676d-62c4-4bbf-d80b-066680be86a2"
      },
      "execution_count": null,
      "outputs": [
        {
          "output_type": "execute_result",
          "data": {
            "text/plain": [
              "Text(0, 0.5, '# of Groups')"
            ]
          },
          "metadata": {},
          "execution_count": 107
        },
        {
          "output_type": "display_data",
          "data": {
            "text/plain": [
              "<Figure size 800x480 with 1 Axes>"
            ],
            "image/png": "[encoded data removed]"
          },
          "metadata": {}
        }
      ]
    },
    {
      "cell_type": "code",
      "source": [
        "\n",
        "group_result2"
      ],
      "metadata": {
        "colab": {
          "base_uri": "https://localhost:8080/"
        },
        "id": "KhlXSz1BDQUs",
        "outputId": "e0dfaa91-8c8d-428e-b9b7-d9766c2aab90"
      },
      "execution_count": null,
      "outputs": [
        {
          "output_type": "execute_result",
          "data": {
            "text/plain": [
              "[32,\n",
              " 40,\n",
              " 50,\n",
              " 58,\n",
              " 63,\n",
              " 66,\n",
              " 60,\n",
              " 68,\n",
              " 67,\n",
              " 81,\n",
              " 68,\n",
              " 5,\n",
              " 5,\n",
              " 5,\n",
              " 6,\n",
              " 10,\n",
              " 6,\n",
              " 7,\n",
              " 7,\n",
              " 8,\n",
              " 7,\n",
              " 6,\n",
              " 2,\n",
              " 1,\n",
              " 3,\n",
              " 2,\n",
              " 1,\n",
              " 1,\n",
              " 2,\n",
              " 2,\n",
              " 2,\n",
              " 1,\n",
              " 2]"
            ]
          },
          "metadata": {},
          "execution_count": 66
        }
      ]
    },
    {
      "cell_type": "code",
      "execution_count": null,
      "metadata": {
        "id": "VShpF_5Vkof0"
      },
      "outputs": [],
      "source": [
        "\n",
        "filenames = []\n",
        "N=200\n",
        "r=0.05\n",
        "x0 = lhs(2,N)\n",
        "v0 = (lhs(2,N)*2-1)\n",
        "x=x0.copy()\n",
        "v=v0.copy()\n",
        "for _ in range(100):\n",
        "  # print('v: ',v)\n",
        "  temp_v =[]\n",
        "  for ii in range(N):\n",
        "    v_mean = np.zeros(2)\n",
        "    v_leave = v[ii]*0\n",
        "    count = 0\n",
        "\n",
        "    for jj in range(N):\n",
        "      if is_near(x[ii],x[jj]):\n",
        "        # print('v_mean: ',v_mean)\n",
        "        v_mean+=v[jj]\n",
        "        #print('v_mean: ',v_mean)\n",
        "        count+=1\n",
        "      #if ii != jj and ((x[ii][0]-x[jj][0])**2+(x[ii][1]-x[jj][1])**2)**(1/2)<r_leave:\n",
        "        #v_leave-=v[jj]\n",
        "\n",
        "\n",
        "    # vv=(1-mu)*v_mean/count+mu*v[ii] #+ leave_mu*v_leave# + random_mu*(lhs(2,1)[0]*2-1)\n",
        "    temp_v.append(v_mean/count)\n",
        "    #temp_v.append(vv/((vv[0]**2+vv[1]**2)**(0.5)))\n",
        "  v =np.array(temp_v)\n",
        "  x = x + v*v_scale\n",
        "  for ii in range(N):\n",
        "    if x[ii][0]>=1:\n",
        "      x[ii][0]-= int(x[ii][0])\n",
        "    if x[ii][1]>=1:\n",
        "      x[ii][1]-= int(x[ii][1])\n",
        "    if x[ii][0]<=0:\n",
        "      x[ii][0]-= (int(x[ii][0])-1)\n",
        "    if x[ii][1]<=0:\n",
        "      x[ii][1]-= (int(x[ii][1])-1)\n",
        "\n",
        "\n",
        "\n",
        "  fig = plt.figure(figsize=plt.figaspect(0.6))\n",
        "  ax = plt.gca()\n",
        "\n",
        "  for g in G_counting(x):\n",
        "    ax.scatter(x[g][:,0],x[g][:,1],s=10)\n",
        "  # ax.scatter(x[:,0],x[:,1],s=10)\n",
        "\n",
        "  ax.set_xlabel('x')\n",
        "  ax.set_ylabel('y')\n",
        "  ax.set_xlim(0,1)\n",
        "  ax.set_ylim(0,1)\n",
        "  ax.set_aspect('equal')\n",
        "  filename = f'{_}.png'\n",
        "  filenames.append(filename)\n",
        "  plt.savefig(filename)\n",
        "  plt.close()"
      ]
    },
    {
      "cell_type": "code",
      "execution_count": null,
      "metadata": {
        "colab": {
          "base_uri": "https://localhost:8080/"
        },
        "id": "trvZusvUkoUr",
        "outputId": "ce5a451d-1d5a-4348-b360-2ceebe01acd0"
      },
      "outputs": [
        {
          "output_type": "stream",
          "name": "stdout",
          "text": [
            "done\n"
          ]
        }
      ],
      "source": [
        "with imageio.get_writer('Bird_N_large.gif',mode='I') as writer:\n",
        "  for filename in filenames:\n",
        "    image = imageio.imread(filename)\n",
        "    writer.append_data(image)\n",
        "for filename in set(filenames):\n",
        "  os.remove(filename)\n",
        "\n",
        "print('done')"
      ]
    },
    {
      "cell_type": "code",
      "execution_count": null,
      "metadata": {
        "colab": {
          "base_uri": "https://localhost:8080/",
          "height": 430
        },
        "id": "SCnRaruPqbSc",
        "outputId": "6ed15fe3-98eb-484b-b897-020b0a65bb0d"
      },
      "outputs": [
        {
          "data": {
            "image/png": "[encoded data removed]",
            "text/plain": [
              "<Figure size 640x480 with 1 Axes>"
            ]
          },
          "metadata": {},
          "output_type": "display_data"
        }
      ],
      "source": [
        "for g in G_counting(x):\n",
        "  plt.scatter(x[g][:,0],x[g][:,1])"
      ]
    },
    {
      "cell_type": "code",
      "execution_count": null,
      "metadata": {
        "colab": {
          "base_uri": "https://localhost:8080/"
        },
        "id": "ab_ugazEq7QU",
        "outputId": "5ad58b96-4889-4ce1-a0a2-06c86315e03e"
      },
      "outputs": [
        {
          "data": {
            "text/plain": [
              "array([[0.77400035, 0.63733425],\n",
              "       [0.7671648 , 0.56749696],\n",
              "       [0.85915298, 0.58399141],\n",
              "       [0.88896328, 0.61753515],\n",
              "       [0.9134485 , 0.64155981],\n",
              "       [0.94230284, 0.73197693],\n",
              "       [0.96189571, 0.82497068],\n",
              "       [0.97711732, 0.92250981],\n",
              "       [0.89149614, 0.94365376],\n",
              "       [0.8252093 , 0.91427759],\n",
              "       [0.72930148, 0.88774639],\n",
              "       [0.71106159, 0.97551131],\n",
              "       [0.80299986, 0.93283513],\n",
              "       [0.83115575, 0.87205165],\n",
              "       [0.78697359, 0.80552541],\n",
              "       [0.9057127 , 0.75281511],\n",
              "       [0.75301856, 0.67945228],\n",
              "       [0.81145964, 0.69637797]])"
            ]
          },
          "execution_count": 119,
          "metadata": {},
          "output_type": "execute_result"
        }
      ],
      "source": [
        "x[groups[0]]"
      ]
    },
    {
      "cell_type": "code",
      "execution_count": null,
      "metadata": {
        "id": "nupUgqfQmZoD"
      },
      "outputs": [],
      "source": [
        "groups = G_counting(x)"
      ]
    },
    {
      "cell_type": "code",
      "execution_count": null,
      "metadata": {
        "colab": {
          "base_uri": "https://localhost:8080/"
        },
        "id": "Hwbn72kokoEt",
        "outputId": "1dd69c5c-9485-402f-85a8-0f7daf8e58a4"
      },
      "outputs": [
        {
          "data": {
            "text/plain": [
              "array([-0.,  0.])"
            ]
          },
          "execution_count": 9,
          "metadata": {},
          "output_type": "execute_result"
        }
      ],
      "source": [
        "v_leave"
      ]
    },
    {
      "cell_type": "code",
      "execution_count": null,
      "metadata": {
        "id": "bfphQSXYdtww"
      },
      "outputs": [],
      "source": [
        "num=G_counting(x)"
      ]
    },
    {
      "cell_type": "code",
      "execution_count": null,
      "metadata": {
        "colab": {
          "base_uri": "https://localhost:8080/",
          "height": 447
        },
        "id": "d46ZimcjfWnp",
        "outputId": "ff1c980d-d42a-4549-8323-a450c96c261b"
      },
      "outputs": [
        {
          "data": {
            "text/plain": [
              "<matplotlib.collections.PathCollection at 0x7fe399852a70>"
            ]
          },
          "execution_count": 11,
          "metadata": {},
          "output_type": "execute_result"
        },
        {
          "data": {
            "image/png": "[encoded data removed]",
            "text/plain": [
              "<Figure size 640x480 with 1 Axes>"
            ]
          },
          "metadata": {},
          "output_type": "display_data"
        }
      ],
      "source": [
        "plt.scatter([x[0,0],x[5,0]],[x[0,1],x[5,1]])\n",
        "plt.scatter(x[:,0],x[:,1])\n",
        "plt.scatter([x[0,0],x[5,0]],[x[0,1],x[5,1]])"
      ]
    },
    {
      "cell_type": "code",
      "execution_count": null,
      "metadata": {
        "colab": {
          "base_uri": "https://localhost:8080/"
        },
        "id": "cJsOf1z-dxT4",
        "outputId": "440d923e-60f3-4e89-a68a-578fdf1e7c92"
      },
      "outputs": [
        {
          "data": {
            "text/plain": [
              "False"
            ]
          },
          "execution_count": 12,
          "metadata": {},
          "output_type": "execute_result"
        }
      ],
      "source": [
        "((x[7][0]-x[6][0])**2+(x[7][0]-x[6][0])**2)**(1/2)<r"
      ]
    },
    {
      "cell_type": "code",
      "execution_count": null,
      "metadata": {
        "colab": {
          "base_uri": "https://localhost:8080/"
        },
        "id": "oGVf6HUPe8Q0",
        "outputId": "785d8c8b-f623-4707-af46-60457bb6bb95"
      },
      "outputs": [
        {
          "data": {
            "text/plain": [
              "array([0., 0.])"
            ]
          },
          "execution_count": 94,
          "metadata": {},
          "output_type": "execute_result"
        }
      ],
      "source": [
        "np.zeros(2)"
      ]
    },
    {
      "cell_type": "code",
      "execution_count": null,
      "metadata": {
        "colab": {
          "base_uri": "https://localhost:8080/"
        },
        "id": "us1_ofbPzqLU",
        "outputId": "1678c149-ff4e-415f-a797-159067d9a16f"
      },
      "outputs": [
        {
          "data": {
            "text/plain": [
              "-2"
            ]
          },
          "execution_count": 14,
          "metadata": {},
          "output_type": "execute_result"
        }
      ],
      "source": [
        "int(x[0][1]-3)"
      ]
    },
    {
      "cell_type": "code",
      "execution_count": null,
      "metadata": {
        "colab": {
          "base_uri": "https://localhost:8080/"
        },
        "id": "0-_cw6wyzt1L",
        "outputId": "2bab8648-d8d7-4fcd-e06b-6fd0d0802912"
      },
      "outputs": [
        {
          "data": {
            "text/plain": [
              "array([[0.23805925]])"
            ]
          },
          "execution_count": 15,
          "metadata": {},
          "output_type": "execute_result"
        }
      ],
      "source": [
        "lhs(1)"
      ]
    },
    {
      "cell_type": "code",
      "execution_count": null,
      "metadata": {
        "colab": {
          "base_uri": "https://localhost:8080/"
        },
        "id": "8S_cUsKjmiTm",
        "outputId": "9b93c79e-3c1b-4afb-a71b-b91ca13b221d"
      },
      "outputs": [
        {
          "data": {
            "text/plain": [
              "array([0.17221855, 0.99683173])"
            ]
          },
          "execution_count": 86,
          "metadata": {},
          "output_type": "execute_result"
        }
      ],
      "source": [
        "x[1]"
      ]
    },
    {
      "cell_type": "code",
      "execution_count": null,
      "metadata": {
        "colab": {
          "base_uri": "https://localhost:8080/"
        },
        "id": "GFrL8xDGjZJM",
        "outputId": "c767ec4b-c0bb-4959-8acf-9bc4bf83c996"
      },
      "outputs": [
        {
          "data": {
            "text/plain": [
              "array([[3.15984267e+12, 3.24331533e+13],\n",
              "       [1.33897932e+12, 1.37436155e+13],\n",
              "       [6.94542915e+12, 7.12863142e+13],\n",
              "       [4.17346158e+12, 4.28362854e+13],\n",
              "       [7.95634129e+12, 8.16686625e+13],\n",
              "       [9.45133959e+12, 9.70085067e+13],\n",
              "       [4.05949850e+12, 4.16642470e+13],\n",
              "       [1.40589039e+13, 1.44284359e+14],\n",
              "       [7.27189014e+12, 7.46338224e+13],\n",
              "       [2.39265559e+12, 2.45567159e+13],\n",
              "       [1.56584923e+13, 1.60725408e+14],\n",
              "       [1.01704743e+12, 1.04399615e+13],\n",
              "       [9.32965818e+11, 9.57653578e+12],\n",
              "       [6.73854332e+12, 6.91615525e+13],\n",
              "       [1.51127133e+12, 1.55131981e+13],\n",
              "       [3.88662717e+12, 3.98897431e+13],\n",
              "       [2.20346685e+13, 2.26169559e+14],\n",
              "       [3.37744023e+12, 3.46674927e+13],\n",
              "       [7.26836073e+12, 7.45971231e+13],\n",
              "       [2.11318811e+12, 2.16882133e+13],\n",
              "       [1.78915211e+13, 1.83627121e+14],\n",
              "       [8.26482398e+12, 8.48343764e+13],\n",
              "       [3.69863240e+12, 3.79605118e+13],\n",
              "       [6.10903009e+12, 6.27028087e+13],\n",
              "       [3.11050901e+13, 3.19260005e+14],\n",
              "       [4.12994785e+12, 4.23916488e+13],\n",
              "       [6.03534597e+12, 6.19465481e+13],\n",
              "       [5.36010484e+12, 5.50193288e+13],\n",
              "       [3.22231217e+12, 3.30739578e+13],\n",
              "       [8.14528763e+12, 8.36084228e+13],\n",
              "       [1.38927568e+13, 1.42592519e+14],\n",
              "       [3.21538921e+12, 3.30054152e+13],\n",
              "       [2.60175365e+12, 2.67065660e+13],\n",
              "       [3.29697108e+13, 3.38417881e+14],\n",
              "       [2.65494018e+12, 2.72493702e+13],\n",
              "       [5.67522458e+12, 5.82538079e+13],\n",
              "       [7.00728207e+13, 7.19248832e+14],\n",
              "       [1.39468486e+13, 1.43157076e+14],\n",
              "       [3.06994627e+12, 3.15124812e+13],\n",
              "       [3.60788216e+12, 3.70303232e+13],\n",
              "       [1.31170354e+13, 1.34627379e+14],\n",
              "       [2.38356047e+13, 2.44665477e+14],\n",
              "       [2.76501833e+13, 2.83790508e+14],\n",
              "       [2.83835170e+13, 2.91326657e+14],\n",
              "       [2.94360954e+13, 3.02131575e+14],\n",
              "       [1.24382134e+13, 1.27672345e+14],\n",
              "       [1.19152275e+13, 1.22306579e+14],\n",
              "       [1.96059726e+13, 2.01221152e+14],\n",
              "       [1.34820098e+13, 1.38385769e+14],\n",
              "       [1.42517298e+13, 1.46280879e+14],\n",
              "       [1.12557649e+13, 1.15536863e+14],\n",
              "       [4.40177298e+13, 4.51779857e+14],\n",
              "       [2.82520825e+13, 2.89994012e+14],\n",
              "       [5.66326142e+13, 5.81271737e+14],\n",
              "       [2.85637073e+12, 2.93196857e+13],\n",
              "       [2.14862091e+12, 2.20539826e+13],\n",
              "       [9.04785674e+12, 9.28709631e+13],\n",
              "       [2.40190099e+13, 2.46550876e+14],\n",
              "       [7.87790069e+11, 8.08642527e+12],\n",
              "       [9.43338108e+12, 9.68187530e+13],\n",
              "       [5.08806168e+13, 5.22205308e+14],\n",
              "       [2.30265456e+13, 2.36353734e+14],\n",
              "       [9.09152619e+12, 9.33096122e+13],\n",
              "       [3.18108255e+13, 3.26502824e+14],\n",
              "       [2.40858931e+13, 2.47232549e+14],\n",
              "       [3.91935031e+13, 4.02253000e+14],\n",
              "       [1.01974829e+13, 1.04661051e+14],\n",
              "       [2.62448189e+13, 2.69387265e+14],\n",
              "       [3.64497195e+13, 3.74112790e+14],\n",
              "       [7.83324643e+13, 8.03946158e+14],\n",
              "       [9.59758716e+13, 9.85054804e+14],\n",
              "       [1.42069761e+13, 1.45803940e+14],\n",
              "       [6.69299998e+12, 6.87002216e+13],\n",
              "       [5.25319524e+13, 5.39187015e+14],\n",
              "       [2.87345344e+13, 2.94946217e+14],\n",
              "       [3.45248178e+13, 3.54356153e+14],\n",
              "       [1.81758536e+13, 1.86546844e+14],\n",
              "       [2.39990232e+14, 2.46308138e+15],\n",
              "       [5.28109682e+12, 5.42087836e+13],\n",
              "       [1.82763591e+13, 1.87576969e+14],\n",
              "       [2.03079993e+13, 2.08438657e+14],\n",
              "       [6.92715541e+12, 7.11048295e+13],\n",
              "       [1.56921728e+13, 1.61067903e+14],\n",
              "       [2.04296194e+14, 2.09680363e+15],\n",
              "       [2.39414265e+13, 2.45721904e+14],\n",
              "       [2.95621870e+14, 3.03413597e+15],\n",
              "       [1.69483927e+14, 1.73947061e+15],\n",
              "       [1.29001236e+13, 1.32411439e+14],\n",
              "       [5.32704992e+12, 5.46787595e+13],\n",
              "       [1.95909634e+13, 2.01094811e+14],\n",
              "       [1.91293326e+13, 1.96340860e+14],\n",
              "       [6.03680224e+12, 6.19635693e+13],\n",
              "       [1.16638263e+14, 1.19717151e+15],\n",
              "       [2.06199910e+13, 2.11647136e+14],\n",
              "       [3.82984302e+14, 3.93077315e+15],\n",
              "       [6.07418160e+13, 6.23442147e+14],\n",
              "       [3.50280894e+13, 3.59552272e+14],\n",
              "       [1.17155937e+13, 1.20237706e+14],\n",
              "       [1.49460950e+13, 1.53415900e+14],\n",
              "       [7.17485465e+13, 7.36418490e+14],\n",
              "       [7.22542801e+13, 7.41614338e+14],\n",
              "       [1.93271888e+14, 1.98371506e+15],\n",
              "       [5.24657195e+13, 5.38532847e+14],\n",
              "       [1.44844707e+13, 1.48678141e+14],\n",
              "       [4.75811815e+13, 4.88373106e+14],\n",
              "       [3.09805718e+13, 3.18005747e+14],\n",
              "       [2.69142441e+14, 2.76243676e+15],\n",
              "       [1.20334637e+13, 1.23501144e+14],\n",
              "       [1.02469341e+13, 1.05181279e+14],\n",
              "       [9.73079323e+13, 9.98766916e+14],\n",
              "       [5.55018654e+13, 5.69680807e+14],\n",
              "       [4.31048465e+13, 4.42426446e+14],\n",
              "       [1.85856122e+13, 1.90762351e+14],\n",
              "       [2.27408650e+14, 2.33411181e+15],\n",
              "       [1.62570550e+14, 1.66865553e+15],\n",
              "       [1.19820940e+13, 1.22987970e+14],\n",
              "       [1.68375664e+14, 1.72819397e+15],\n",
              "       [5.49564065e+13, 5.64092714e+14],\n",
              "       [5.53970772e+13, 5.68633522e+14],\n",
              "       [2.78710717e+14, 2.86050520e+15],\n",
              "       [8.77487832e+13, 9.00663557e+14],\n",
              "       [8.02020976e+13, 8.23227127e+14],\n",
              "       [1.03363412e+14, 1.06099287e+15],\n",
              "       [2.36838296e+14, 2.43106926e+15],\n",
              "       [3.36729340e+14, 3.45616222e+15],\n",
              "       [3.05317805e+13, 3.13366519e+14],\n",
              "       [8.67538748e+12, 8.90511403e+13],\n",
              "       [2.27744404e+13, 2.33760707e+14],\n",
              "       [8.77658604e+13, 9.00810381e+14],\n",
              "       [5.47048296e+12, 5.61478858e+13],\n",
              "       [2.59119650e+13, 2.65967564e+14],\n",
              "       [2.97644077e+13, 3.05503858e+14],\n",
              "       [6.91401240e+13, 7.09628678e+14],\n",
              "       [3.30326398e+13, 3.39071231e+14],\n",
              "       [1.95750390e+13, 2.00932722e+14],\n",
              "       [2.54084773e+14, 2.60783731e+15],\n",
              "       [5.51964558e+13, 5.66561263e+14],\n",
              "       [4.28115852e+14, 4.39411743e+15],\n",
              "       [4.16683708e+13, 4.27690944e+14],\n",
              "       [1.10464323e+15, 1.13377148e+16],\n",
              "       [1.65166563e+14, 1.69527820e+15],\n",
              "       [1.20926899e+14, 1.24113621e+15],\n",
              "       [5.91077960e+13, 6.06712872e+14],\n",
              "       [5.27336303e+14, 5.41238469e+15],\n",
              "       [2.26461260e+14, 2.32429274e+15],\n",
              "       [4.07907082e+14, 4.18676050e+15],\n",
              "       [2.66470925e+14, 2.73504910e+15],\n",
              "       [6.66852822e+13, 6.84445744e+14],\n",
              "       [2.07049903e+14, 2.12530180e+15],\n",
              "       [4.16520921e+14, 4.27511111e+15],\n",
              "       [1.10551073e+14, 1.13466586e+15],\n",
              "       [6.42200125e+12, 6.59151013e+13],\n",
              "       [1.64647609e+14, 1.69001126e+15],\n",
              "       [1.05390902e+15, 1.08171666e+16],\n",
              "       [1.37221745e+13, 1.40847427e+14],\n",
              "       [1.54888714e+15, 1.58973940e+16],\n",
              "       [4.70097169e+13, 4.82542792e+14],\n",
              "       [1.05971522e+14, 1.08775517e+15],\n",
              "       [3.50565780e+14, 3.59825677e+15],\n",
              "       [3.96421869e+13, 4.06887012e+14],\n",
              "       [6.52143555e+14, 6.69370362e+15],\n",
              "       [1.81334615e+14, 1.86117886e+15],\n",
              "       [5.32463287e+13, 5.46549094e+14],\n",
              "       [6.39704893e+13, 6.56592689e+14],\n",
              "       [5.80446784e+14, 5.95768437e+15],\n",
              "       [3.68305413e+15, 3.78018315e+16],\n",
              "       [8.27851713e+13, 8.49677832e+14],\n",
              "       [3.45427195e+15, 3.54540100e+16],\n",
              "       [2.43930606e+14, 2.50386293e+15],\n",
              "       [4.86395940e+15, 4.99228741e+16],\n",
              "       [1.39259945e+15, 1.42938820e+16],\n",
              "       [1.47220113e+13, 1.51114465e+14],\n",
              "       [4.96649341e+13, 5.09771873e+14],\n",
              "       [2.91735483e+14, 2.99455126e+15],\n",
              "       [2.92101246e+14, 2.99798847e+15],\n",
              "       [5.92910431e+13, 6.08605895e+14],\n",
              "       [8.15195135e+15, 8.36694162e+16],\n",
              "       [4.65679314e+14, 4.77971686e+15],\n",
              "       [2.52048468e+14, 2.58698383e+15],\n",
              "       [1.38551230e+16, 1.42206517e+17],\n",
              "       [2.16648739e+14, 2.22374169e+15],\n",
              "       [8.19449378e+14, 8.41086423e+15],\n",
              "       [1.02856388e+14, 1.05570748e+15],\n",
              "       [2.15824493e+14, 2.21525788e+15],\n",
              "       [1.18844417e+15, 1.21981724e+16],\n",
              "       [3.17265505e+14, 3.25636848e+15],\n",
              "       [8.64036557e+14, 8.86813804e+15],\n",
              "       [1.71399054e+14, 1.75931077e+15],\n",
              "       [4.48140665e+14, 4.59978711e+15],\n",
              "       [1.22964118e+16, 1.26207023e+17],\n",
              "       [1.78068410e+14, 1.82782240e+15],\n",
              "       [2.32083311e+14, 2.38223466e+15],\n",
              "       [1.20345552e+14, 1.23528105e+15],\n",
              "       [3.17351760e+14, 3.25733310e+15],\n",
              "       [2.85504110e+14, 2.93054953e+15],\n",
              "       [2.47904460e+14, 2.54448830e+15],\n",
              "       [4.14099431e+14, 4.25052696e+15],\n",
              "       [6.40271363e+14, 6.57131460e+15],\n",
              "       [3.14547718e+15, 3.22856786e+16],\n",
              "       [2.90166110e+13, 2.97845156e+14]])"
            ]
          },
          "execution_count": 57,
          "metadata": {},
          "output_type": "execute_result"
        }
      ],
      "source": [
        "v"
      ]
    },
    {
      "cell_type": "code",
      "execution_count": null,
      "metadata": {
        "id": "PDHtQQqGjZfi"
      },
      "outputs": [],
      "source": []
    }
  ],
  "metadata": {
    "colab": {
      "provenance": []
    },
    "kernelspec": {
      "display_name": "Python 3",
      "name": "python3"
    },
    "language_info": {
      "name": "python"
    }
  },
  "nbformat": 4,
  "nbformat_minor": 0
}